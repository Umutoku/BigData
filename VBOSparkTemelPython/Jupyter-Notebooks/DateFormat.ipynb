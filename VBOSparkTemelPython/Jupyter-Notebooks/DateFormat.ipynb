{
 "cells": [
  {
   "cell_type": "code",
   "execution_count": 1,
   "id": "bd329023",
   "metadata": {},
   "outputs": [],
   "source": [
    "import findspark\n",
    "findspark.init()\n",
    "\n",
    "from pyspark.sql import SparkSession\n",
    "\n",
    "spark = SparkSession.builder \\\n",
    ".master(\"local[4]\") \\\n",
    ".appName(\"Schema\") \\\n",
    ".config(\"spark.executor.memory\",\"4g\") \\\n",
    ".config(\"spark.driver.memory\",\"2g\") \\\n",
    ".getOrCreate()\n",
    "\n",
    "df = spark.read \\\n",
    ".option(\"header\",\"true\") \\\n",
    ".option(\"inferSchema\",\"True\") \\\n",
    ".option(\"sep\",\";\") \\\n",
    ".csv(\"C:\\\\Users\\\\umuto\\\\OneDrive\\\\Masaüstü\\\\OnlineRetail.csv\")\\\n",
    ".select(\"InvoiceDate\").distinct()"
   ]
  },
  {
   "cell_type": "code",
   "execution_count": 2,
   "id": "d53f7f29",
   "metadata": {},
   "outputs": [
    {
     "name": "stdout",
     "output_type": "stream",
     "text": [
      "+----------------+\n",
      "|     InvoiceDate|\n",
      "+----------------+\n",
      "| 3.12.2010 16:50|\n",
      "| 7.12.2010 12:28|\n",
      "| 8.12.2010 15:02|\n",
      "|10.12.2010 09:53|\n",
      "|12.12.2010 13:32|\n",
      "+----------------+\n",
      "only showing top 5 rows\n",
      "\n"
     ]
    }
   ],
   "source": [
    "df.show(5)"
   ]
  },
  {
   "cell_type": "code",
   "execution_count": 3,
   "id": "c2c45060",
   "metadata": {},
   "outputs": [],
   "source": [
    "mevcut_format = \"dd.MM.yyyy HH:mm\" "
   ]
  },
  {
   "cell_type": "code",
   "execution_count": 4,
   "id": "c0e0c60a",
   "metadata": {},
   "outputs": [],
   "source": [
    "from pyspark.sql import functions as F"
   ]
  },
  {
   "cell_type": "code",
   "execution_count": 10,
   "id": "2643047c",
   "metadata": {},
   "outputs": [],
   "source": [
    "df2 = df \\\n",
    ".withColumn(\"normal_tarih\", F.to_date(F.col(\"InvoiceDate\"),mevcut_format)) \\\n",
    ".withColumn(\"standart_ts\",F.to_timestamp(F.col(\"InvoiceDate\"),mevcut_format))"
   ]
  },
  {
   "cell_type": "code",
   "execution_count": 11,
   "id": "41b716ad",
   "metadata": {},
   "outputs": [
    {
     "name": "stdout",
     "output_type": "stream",
     "text": [
      "+----------------+------------+-------------------+\n",
      "|     InvoiceDate|normal_tarih|        standart_ts|\n",
      "+----------------+------------+-------------------+\n",
      "| 3.12.2010 16:50|  2010-12-03|2010-12-03 16:50:00|\n",
      "| 7.12.2010 12:28|  2010-12-07|2010-12-07 12:28:00|\n",
      "| 8.12.2010 15:02|  2010-12-08|2010-12-08 15:02:00|\n",
      "|10.12.2010 09:53|  2010-12-10|2010-12-10 09:53:00|\n",
      "|12.12.2010 13:32|  2010-12-12|2010-12-12 13:32:00|\n",
      "+----------------+------------+-------------------+\n",
      "only showing top 5 rows\n",
      "\n"
     ]
    }
   ],
   "source": [
    "df2.show(5)"
   ]
  },
  {
   "cell_type": "markdown",
   "id": "0817c8e3",
   "metadata": {},
   "source": [
    "# Tarih formatı değiştirme"
   ]
  },
  {
   "cell_type": "code",
   "execution_count": 13,
   "id": "cf63123e",
   "metadata": {},
   "outputs": [
    {
     "name": "stdout",
     "output_type": "stream",
     "text": [
      "+----------------+------------+-------------------+-------------------+-------------------+\n",
      "|     InvoiceDate|normal_tarih|        standart_ts|               TSTR|              TSENG|\n",
      "+----------------+------------+-------------------+-------------------+-------------------+\n",
      "| 3.12.2010 16:50|  2010-12-03|2010-12-03 16:50:00|03/12/2010 16:50:00|12/03/2010 16:50:00|\n",
      "| 7.12.2010 12:28|  2010-12-07|2010-12-07 12:28:00|07/12/2010 12:28:00|12/07/2010 12:28:00|\n",
      "| 8.12.2010 15:02|  2010-12-08|2010-12-08 15:02:00|08/12/2010 15:02:00|12/08/2010 15:02:00|\n",
      "|10.12.2010 09:53|  2010-12-10|2010-12-10 09:53:00|10/12/2010 09:53:00|12/10/2010 09:53:00|\n",
      "|12.12.2010 13:32|  2010-12-12|2010-12-12 13:32:00|12/12/2010 13:32:00|12/12/2010 13:32:00|\n",
      "|15.12.2010 13:21|  2010-12-15|2010-12-15 13:21:00|15/12/2010 13:21:00|12/15/2010 13:21:00|\n",
      "|16.12.2010 08:41|  2010-12-16|2010-12-16 08:41:00|16/12/2010 08:41:00|12/16/2010 08:41:00|\n",
      "|17.12.2010 09:52|  2010-12-17|2010-12-17 09:52:00|17/12/2010 09:52:00|12/17/2010 09:52:00|\n",
      "| 9.01.2011 11:43|  2011-01-09|2011-01-09 11:43:00|09/01/2011 11:43:00|01/09/2011 11:43:00|\n",
      "|11.01.2011 11:38|  2011-01-11|2011-01-11 11:38:00|11/01/2011 11:38:00|01/11/2011 11:38:00|\n",
      "+----------------+------------+-------------------+-------------------+-------------------+\n",
      "only showing top 10 rows\n",
      "\n"
     ]
    }
   ],
   "source": [
    "format_tr = \"dd/MM/yyyy HH:mm:ss\"\n",
    "format_eng = \"MM/dd/yyyy HH:mm:ss\"\n",
    "\n",
    "df3 = df2 \\\n",
    ".withColumn(\"TSTR\",F.date_format(F.col(\"standart_ts\"),format_tr))\\\n",
    ".withColumn(\"TSENG\",F.date_format(F.col(\"standart_ts\"),format_eng))\n",
    "\n",
    "df3.show(10)"
   ]
  },
  {
   "cell_type": "markdown",
   "id": "4ac42797",
   "metadata": {},
   "source": [
    "# Tarih ekleme, tarih farkıi timestamp içinden yılı alma"
   ]
  },
  {
   "cell_type": "code",
   "execution_count": 15,
   "id": "ce6dabb7",
   "metadata": {},
   "outputs": [
    {
     "name": "stdout",
     "output_type": "stream",
     "text": [
      "+----------------+------------+-------------------+----------+----+----------+\n",
      "|     InvoiceDate|normal_tarih|        standart_ts|   bir_yıl| yil|tarih_fark|\n",
      "+----------------+------------+-------------------+----------+----+----------+\n",
      "| 3.12.2010 16:50|  2010-12-03|2010-12-03 16:50:00|2011-12-03|2010|       365|\n",
      "| 7.12.2010 12:28|  2010-12-07|2010-12-07 12:28:00|2011-12-07|2010|       365|\n",
      "| 8.12.2010 15:02|  2010-12-08|2010-12-08 15:02:00|2011-12-08|2010|       365|\n",
      "|10.12.2010 09:53|  2010-12-10|2010-12-10 09:53:00|2011-12-10|2010|       365|\n",
      "|12.12.2010 13:32|  2010-12-12|2010-12-12 13:32:00|2011-12-12|2010|       365|\n",
      "+----------------+------------+-------------------+----------+----+----------+\n",
      "only showing top 5 rows\n",
      "\n"
     ]
    }
   ],
   "source": [
    "df4 = df2\\\n",
    ".withColumn(\"bir_yıl\",F.date_add(F.col(\"standart_ts\"),365)) \\\n",
    ".withColumn(\"yil\",F.year(F.col(\"standart_ts\"))) \\\n",
    ".withColumn(\"tarih_fark\",F.datediff(F.col(\"bir_yıl\"),df2.standart_ts)) \\\n",
    "\n",
    "df4.show(5)\n"
   ]
  },
  {
   "cell_type": "code",
   "execution_count": null,
   "id": "a4f3a788",
   "metadata": {},
   "outputs": [],
   "source": []
  }
 ],
 "metadata": {
  "kernelspec": {
   "display_name": "Python 3",
   "language": "python",
   "name": "python3"
  },
  "language_info": {
   "codemirror_mode": {
    "name": "ipython",
    "version": 3
   },
   "file_extension": ".py",
   "mimetype": "text/x-python",
   "name": "python",
   "nbconvert_exporter": "python",
   "pygments_lexer": "ipython3",
   "version": "3.6.8"
  }
 },
 "nbformat": 4,
 "nbformat_minor": 5
}
