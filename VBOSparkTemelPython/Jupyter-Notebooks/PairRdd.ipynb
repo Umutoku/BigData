{
 "cells": [
  {
   "cell_type": "code",
   "execution_count": 1,
   "id": "96b603cc",
   "metadata": {},
   "outputs": [],
   "source": [
    "import findspark\n",
    "findspark.init()\n",
    "\n",
    "from pyspark import SparkConf, SparkContext\n",
    "\n",
    "\n",
    "conf = SparkConf().setAppName(\"RDD-Join\").setMaster(\"local[4]\")\n",
    "\n",
    "sc = SparkContext(conf=conf)\n",
    "order_items_RDD = sc.textFile(\"C:\\\\Users\\\\umuto\\\\OneDrive\\\\Masaüstü\\\\order_items.csv\")\\\n",
    ".filter(lambda x: \"orderItemName\" not in x)\n",
    "products_RDD = sc.textFile(\"C:\\\\Users\\\\umuto\\\\OneDrive\\\\Masaüstü\\\\products.csv\")\\\n",
    ".filter(lambda x: \"productCategoryId\")"
   ]
  },
  {
   "cell_type": "code",
   "execution_count": 3,
   "id": "b5060239",
   "metadata": {},
   "outputs": [
    {
     "data": {
      "text/plain": [
       "['1,1,957,1,299.98,299.98',\n",
       " '2,2,1073,1,199.99,199.99',\n",
       " '3,2,502,5,250.0,50.0',\n",
       " '4,2,403,1,129.99,129.99',\n",
       " '5,4,897,2,49.98,24.99']"
      ]
     },
     "execution_count": 3,
     "metadata": {},
     "output_type": "execute_result"
    }
   ],
   "source": [
    "order_items_RDD.take(5)"
   ]
  },
  {
   "cell_type": "markdown",
   "id": "96b32104",
   "metadata": {},
   "source": [
    "Okunan RDDleri Pair RDD çevirme"
   ]
  },
  {
   "cell_type": "code",
   "execution_count": 4,
   "id": "5e741ef4",
   "metadata": {},
   "outputs": [],
   "source": [
    "def make_order_items_pair_rdd(line): \n",
    "    orderItemName = line.split(\",\")[0]\n",
    "    orderItemOrderId = line.split(\",\")[1]\n",
    "    orderItemProductId = line.split(\",\")[2]\n",
    "    orderItemQuantity = line.split(\",\")[3]\n",
    "    orderItemSubTotal = line.split(\",\")[4]\n",
    "    orderItemProductPrice = line.split(\",\")[5]\n",
    "\n",
    "    return (orderItemProductId,(orderItemName,orderItemOrderId,orderItemProductId,orderItemQuantity,orderItemSubTotal,orderItemProductPrice))"
   ]
  },
  {
   "cell_type": "code",
   "execution_count": 6,
   "id": "19f9a27a",
   "metadata": {},
   "outputs": [],
   "source": [
    "order_items_pair_rdd = order_items_RDD.map(make_order_items_pair_rdd)"
   ]
  },
  {
   "cell_type": "code",
   "execution_count": 7,
   "id": "b27e3657",
   "metadata": {},
   "outputs": [],
   "source": [
    "def make_products_pair_rdd(line):\n",
    "    productId  = line.split(\",\")[0]\n",
    "    productCategoryId = line.split(\",\")[1]\n",
    "    productName = line.split(\",\")[2]\n",
    "    productDescription = line.split(\",\")[3]\n",
    "    productPrice = line.split(\",\")[4]\n",
    "    productImage = line.split(\",\")[5]\n",
    "    \n",
    "    return(productId,(productId,productCategoryId,productName,productDescription,productPrice,productImage))\n"
   ]
  },
  {
   "cell_type": "code",
   "execution_count": 8,
   "id": "3e33c1f3",
   "metadata": {},
   "outputs": [],
   "source": [
    "products_pair_rdd = products_RDD.map(make_products_pair_rdd)"
   ]
  },
  {
   "cell_type": "code",
   "execution_count": 9,
   "id": "133ed8a3",
   "metadata": {},
   "outputs": [],
   "source": [
    "prder_items_product_pair_rdd = order_items_pair_rdd.join(products_pair_rdd)"
   ]
  },
  {
   "cell_type": "code",
   "execution_count": 10,
   "id": "334a4dfc",
   "metadata": {},
   "outputs": [
    {
     "data": {
      "text/plain": [
       "[('957',\n",
       "  (('1', '1', '957', '1', '299.98', '299.98'),\n",
       "   ('957',\n",
       "    '43',\n",
       "    \"Diamondback Women's Serene Classic Comfort Bi\",\n",
       "    '',\n",
       "    '299.98',\n",
       "    'http://images.acmesports.sports/Diamondback+Women%27s+Serene+Classic+Comfort+Bike+2014'))),\n",
       " ('957',\n",
       "  (('9', '5', '957', '1', '299.98', '299.98'),\n",
       "   ('957',\n",
       "    '43',\n",
       "    \"Diamondback Women's Serene Classic Comfort Bi\",\n",
       "    '',\n",
       "    '299.98',\n",
       "    'http://images.acmesports.sports/Diamondback+Women%27s+Serene+Classic+Comfort+Bike+2014'))),\n",
       " ('957',\n",
       "  (('12', '5', '957', '1', '299.98', '299.98'),\n",
       "   ('957',\n",
       "    '43',\n",
       "    \"Diamondback Women's Serene Classic Comfort Bi\",\n",
       "    '',\n",
       "    '299.98',\n",
       "    'http://images.acmesports.sports/Diamondback+Women%27s+Serene+Classic+Comfort+Bike+2014'))),\n",
       " ('957',\n",
       "  (('15', '7', '957', '1', '299.98', '299.98'),\n",
       "   ('957',\n",
       "    '43',\n",
       "    \"Diamondback Women's Serene Classic Comfort Bi\",\n",
       "    '',\n",
       "    '299.98',\n",
       "    'http://images.acmesports.sports/Diamondback+Women%27s+Serene+Classic+Comfort+Bike+2014'))),\n",
       " ('957',\n",
       "  (('34', '12', '957', '1', '299.98', '299.98'),\n",
       "   ('957',\n",
       "    '43',\n",
       "    \"Diamondback Women's Serene Classic Comfort Bi\",\n",
       "    '',\n",
       "    '299.98',\n",
       "    'http://images.acmesports.sports/Diamondback+Women%27s+Serene+Classic+Comfort+Bike+2014')))]"
      ]
     },
     "execution_count": 10,
     "metadata": {},
     "output_type": "execute_result"
    }
   ],
   "source": [
    "prder_items_product_pair_rdd.take(5)"
   ]
  },
  {
   "cell_type": "code",
   "execution_count": null,
   "id": "d9704095",
   "metadata": {},
   "outputs": [],
   "source": []
  }
 ],
 "metadata": {
  "kernelspec": {
   "display_name": "Python 3",
   "language": "python",
   "name": "python3"
  },
  "language_info": {
   "codemirror_mode": {
    "name": "ipython",
    "version": 3
   },
   "file_extension": ".py",
   "mimetype": "text/x-python",
   "name": "python",
   "nbconvert_exporter": "python",
   "pygments_lexer": "ipython3",
   "version": "3.6.8"
  }
 },
 "nbformat": 4,
 "nbformat_minor": 5
}
