{
 "cells": [
  {
   "cell_type": "code",
   "execution_count": 10,
   "id": "1272e193",
   "metadata": {},
   "outputs": [],
   "source": [
    "import findspark\n",
    "findspark.init()\n",
    "\n",
    "from pyspark.sql import SparkSession\n",
    "\n",
    "spark = SparkSession.builder \\\n",
    ".master(\"local[4]\") \\\n",
    ".appName(\"DF to Disk\") \\\n",
    ".config(\"spark.executor.memory\",\"4g\") \\\n",
    ".config(\"spark.driver.memory\",\"2g\") \\\n",
    ".getOrCreate()\n",
    "\n",
    "df = spark.read \\\n",
    ".option(\"header\",\"true\") \\\n",
    ".option(\"inferSchema\",\"True\") \\\n",
    ".option(\"sep\",\",\") \\\n",
    ".csv(\"C:\\\\Users\\\\umuto\\\\OneDrive\\\\Masaüstü\\\\simple_dirty_data.csv\")"
   ]
  },
  {
   "cell_type": "code",
   "execution_count": 11,
   "id": "6ca47fc3",
   "metadata": {},
   "outputs": [],
   "source": [
    "from pyspark.sql import functions as F"
   ]
  },
  {
   "cell_type": "code",
   "execution_count": 14,
   "id": "7a1a0840",
   "metadata": {},
   "outputs": [
    {
     "name": "stdout",
     "output_type": "stream",
     "text": [
      "+------+--------+---+--------+-----------+----------+-----------+--------------------+\n",
      "|sirano|    isim|yas|cinsiyet|     meslek|     sehir|aylik_gelir|            mal_mulk|\n",
      "+------+--------+---+--------+-----------+----------+-----------+--------------------+\n",
      "|     1|   Cemal| 35|       E|       Isci|    ANKARA|     3500.0|               araba|\n",
      "|     2|   Ceyda| 42|       K|      Memur|   KAYSERI|     4200.0|            araba|ev|\n",
      "|     3|   Timur| 30|       U|   Müzüsyen|  ISTANBUL|     9000.0|     araba|ev|yazlık|\n",
      "|     4|   Burcu| 29|       K|Pazarlamacı|    ANKARA|     4200.0|               araba|\n",
      "|     5| Yasemin| 23|       K|Pazarlamaci|     BURSA|     4800.0|               araba|\n",
      "|     6|     Ali| 33|       E|      Memur|    ANKARA|     4250.0|                  ev|\n",
      "|     7|   Dilek| 29|       K|Pazarlamaci|  ISTANBUL|     7300.0|        araba|yazlık|\n",
      "|     8|   Murat| 31|       E|   Müzüsyen|  ISTANBUL|    12000.0|araba|ev|dükkan|y...|\n",
      "|     9|   Ahmet| 33|       E|     Doktor|    ANKARA|   180000.0|     araba|ev|yazlık|\n",
      "|    10|Muhittin| 46|       E|     Berber|  ISTANBUL|    12000.0|     araba|ev|dükkan|\n",
      "|    11|Hicaziye| 47|       K| Tuhafiyeci|Bilinmiyor|        4.8|              dükkan|\n",
      "|    12|   Harun| 43|       E|    Tornacı|    ANKARA|     4200.0|               araba|\n",
      "|    13|   Hakkı| 33|       E|      memur|     ÇORUM|     3750.0|                  ev|\n",
      "|    14| Gülizar| 37|       K|     Doktor|     İZMIR|    14250.0|               araba|\n",
      "|    15|  Şehmuz| 41|       E|   Müzisyen|    ANKARA|     8700.0|               araba|\n",
      "+------+--------+---+--------+-----------+----------+-----------+--------------------+\n",
      "\n"
     ]
    }
   ],
   "source": [
    "df2= df \\\n",
    ".withColumn(\"isim\",F.trim(F.initcap(df.isim))) \\\n",
    ".withColumn(\"cinsiyet\",F.when(df.cinsiyet.isNull(),\"U\").otherwise(df.cinsiyet)) \\\n",
    ".withColumn(\"sehir\",F.when(df.sehir.isNull(),\"Bilinmiyor\").otherwise(F.trim(F.upper(df.sehir))))\n",
    "\n",
    "df2.show(20)"
   ]
  },
  {
   "cell_type": "markdown",
   "id": "acdeb964",
   "metadata": {},
   "source": [
    "#Temizlenmiş dataframe'i diske yaz"
   ]
  },
  {
   "cell_type": "code",
   "execution_count": 17,
   "id": "75a419d7",
   "metadata": {},
   "outputs": [],
   "source": [
    "df2 \\\n",
    ".coalesce(1) \\\n",
    ".write \\\n",
    ".mode(\"overwrite\") \\\n",
    ".option(\"sep\",\",\") \\\n",
    ".option(\"header\",\"True\") \\\n",
    ".csv(\"C:\\\\Users\\\\umuto\\\\OneDrive\\\\Masaüstü\\\\simple_dirty_data_python\")"
   ]
  },
  {
   "cell_type": "code",
   "execution_count": null,
   "id": "b84d9737",
   "metadata": {},
   "outputs": [],
   "source": []
  }
 ],
 "metadata": {
  "kernelspec": {
   "display_name": "Python 3",
   "language": "python",
   "name": "python3"
  },
  "language_info": {
   "codemirror_mode": {
    "name": "ipython",
    "version": 3
   },
   "file_extension": ".py",
   "mimetype": "text/x-python",
   "name": "python",
   "nbconvert_exporter": "python",
   "pygments_lexer": "ipython3",
   "version": "3.6.8"
  }
 },
 "nbformat": 4,
 "nbformat_minor": 5
}
