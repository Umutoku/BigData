{
 "cells": [
  {
   "cell_type": "markdown",
   "id": "53803013",
   "metadata": {},
   "source": [
    "Soru-1"
   ]
  },
  {
   "cell_type": "code",
   "execution_count": 1,
   "id": "64b43cc1",
   "metadata": {},
   "outputs": [],
   "source": [
    "import findspark\n",
    "findspark.init()"
   ]
  },
  {
   "cell_type": "code",
   "execution_count": 2,
   "id": "eb94452e",
   "metadata": {},
   "outputs": [],
   "source": [
    "from pyspark import SparkContext"
   ]
  },
  {
   "cell_type": "code",
   "execution_count": 3,
   "id": "bd733689",
   "metadata": {},
   "outputs": [],
   "source": [
    "from pyspark.conf import SparkConf\n"
   ]
  },
  {
   "cell_type": "code",
   "execution_count": 6,
   "id": "59bf17ef",
   "metadata": {},
   "outputs": [],
   "source": [
    "sparkConf = SparkConf().\\\n",
    "setMaster(\"local[2]\").\\\n",
    "setAppName(\"Test\").\\\n",
    "set(\"spark.driver.memory\",\"2g\").\\\n",
    "setExecutorEnv(\"spark.executor.memory\",\"3g\")"
   ]
  },
  {
   "cell_type": "code",
   "execution_count": 9,
   "id": "309f2ccd",
   "metadata": {},
   "outputs": [],
   "source": [
    "sc = SparkContext(conf=sparkConf)"
   ]
  },
  {
   "cell_type": "code",
   "execution_count": 11,
   "id": "9fed4c30",
   "metadata": {},
   "outputs": [
    {
     "name": "stdout",
     "output_type": "stream",
     "text": [
      "Merhaba\n"
     ]
    }
   ],
   "source": [
    "print(\"Merhaba\")"
   ]
  },
  {
   "cell_type": "markdown",
   "id": "a25a66bf",
   "metadata": {},
   "source": [
    "Soru-2"
   ]
  },
  {
   "cell_type": "code",
   "execution_count": 12,
   "id": "99365362",
   "metadata": {},
   "outputs": [],
   "source": [
    "rdd = sc.parallelize([3,7,13,15,22,36,7,11,3,25])"
   ]
  },
  {
   "cell_type": "code",
   "execution_count": 13,
   "id": "a1bae4dc",
   "metadata": {},
   "outputs": [
    {
     "data": {
      "text/plain": [
       "[3, 7, 13, 15, 22, 36, 7, 11, 3, 25]"
      ]
     },
     "execution_count": 13,
     "metadata": {},
     "output_type": "execute_result"
    }
   ],
   "source": [
    "rdd.collect()"
   ]
  },
  {
   "cell_type": "markdown",
   "id": "e849301b",
   "metadata": {},
   "source": [
    "Soru - 3"
   ]
  },
  {
   "cell_type": "code",
   "execution_count": 14,
   "id": "fac973b3",
   "metadata": {},
   "outputs": [],
   "source": [
    "metinRDD = sc.parallelize([\"Spark'ı öğrenmek çok heyecan verici\"])"
   ]
  },
  {
   "cell_type": "code",
   "execution_count": 15,
   "id": "624df182",
   "metadata": {},
   "outputs": [
    {
     "data": {
      "text/plain": [
       "[\"SPARK'I ÖĞRENMEK ÇOK HEYECAN VERICI\"]"
      ]
     },
     "execution_count": 15,
     "metadata": {},
     "output_type": "execute_result"
    }
   ],
   "source": [
    "metinRDD.map(lambda x: x.upper()).collect()"
   ]
  },
  {
   "cell_type": "markdown",
   "id": "a44ceb12",
   "metadata": {},
   "source": [
    "Soru - 4"
   ]
  },
  {
   "cell_type": "code",
   "execution_count": 23,
   "id": "57441db1",
   "metadata": {},
   "outputs": [],
   "source": [
    "ubuntu = sc.textFile(\"C:\\\\Users\\\\umuto\\\\OneDrive\\\\Masaüstü\\\\Ubuntu_Spark_Kurulumu.txt\")"
   ]
  },
  {
   "cell_type": "code",
   "execution_count": 17,
   "id": "4015aaef",
   "metadata": {},
   "outputs": [
    {
     "data": {
      "text/plain": [
       "77"
      ]
     },
     "execution_count": 17,
     "metadata": {},
     "output_type": "execute_result"
    }
   ],
   "source": [
    "ubuntu.count()"
   ]
  },
  {
   "cell_type": "markdown",
   "id": "f8a90efc",
   "metadata": {},
   "source": [
    "soru 5"
   ]
  },
  {
   "cell_type": "code",
   "execution_count": 24,
   "id": "459bb566",
   "metadata": {},
   "outputs": [
    {
     "data": {
      "text/plain": [
       "238"
      ]
     },
     "execution_count": 24,
     "metadata": {},
     "output_type": "execute_result"
    }
   ],
   "source": [
    "ubuntu.flatMap(lambda x: x.split(\" \")).count()"
   ]
  },
  {
   "cell_type": "markdown",
   "id": "c6ce8a06",
   "metadata": {},
   "source": [
    "Soru 6"
   ]
  },
  {
   "cell_type": "code",
   "execution_count": 25,
   "id": "d54acd9c",
   "metadata": {},
   "outputs": [],
   "source": [
    "rdd2 = sc.parallelize([1,2,3,4,5,6,7,8,9,10])"
   ]
  },
  {
   "cell_type": "code",
   "execution_count": 26,
   "id": "075ed6f9",
   "metadata": {},
   "outputs": [
    {
     "data": {
      "text/plain": [
       "[3, 7]"
      ]
     },
     "execution_count": 26,
     "metadata": {},
     "output_type": "execute_result"
    }
   ],
   "source": [
    "rdd.intersection(rdd2).collect()"
   ]
  },
  {
   "cell_type": "markdown",
   "id": "555660aa",
   "metadata": {},
   "source": [
    "Soru 7"
   ]
  },
  {
   "cell_type": "code",
   "execution_count": 27,
   "id": "a4a41e0e",
   "metadata": {},
   "outputs": [],
   "source": [
    "rakamlar = [3,7,13,15,22,36,7,11,3,25]"
   ]
  },
  {
   "cell_type": "code",
   "execution_count": 28,
   "id": "814ac7bd",
   "metadata": {},
   "outputs": [],
   "source": [
    "rakamlar_dist = set(rakamlar)"
   ]
  },
  {
   "cell_type": "code",
   "execution_count": 29,
   "id": "5283f342",
   "metadata": {},
   "outputs": [
    {
     "data": {
      "text/plain": [
       "{3, 7, 11, 13, 15, 22, 25, 36}"
      ]
     },
     "execution_count": 29,
     "metadata": {},
     "output_type": "execute_result"
    }
   ],
   "source": [
    "rakamlar_dist"
   ]
  },
  {
   "cell_type": "code",
   "execution_count": 30,
   "id": "946039f3",
   "metadata": {},
   "outputs": [],
   "source": [
    "rakamlar_dist_rdd = sc.parallelize(rakamlar_dist)"
   ]
  },
  {
   "cell_type": "code",
   "execution_count": 31,
   "id": "74e8d2af",
   "metadata": {},
   "outputs": [
    {
     "data": {
      "text/plain": [
       "[3, 36, 7, 11, 13, 15, 22, 25]"
      ]
     },
     "execution_count": 31,
     "metadata": {},
     "output_type": "execute_result"
    }
   ],
   "source": [
    "rakamlar_dist_rdd.collect()"
   ]
  },
  {
   "cell_type": "markdown",
   "id": "4dccf1e6",
   "metadata": {},
   "source": [
    "Soru 8 "
   ]
  },
  {
   "cell_type": "code",
   "execution_count": 33,
   "id": "ff8a1da2",
   "metadata": {},
   "outputs": [
    {
     "data": {
      "text/plain": [
       "[(22, 1), (36, 1), (3, 2), (7, 2), (13, 1), (15, 1), (11, 1), (25, 1)]"
      ]
     },
     "execution_count": 33,
     "metadata": {},
     "output_type": "execute_result"
    }
   ],
   "source": [
    "rdd.map(lambda x: (x,1)).reduceByKey(lambda x,y:x+y).collect()"
   ]
  },
  {
   "cell_type": "code",
   "execution_count": null,
   "id": "c10a1383",
   "metadata": {},
   "outputs": [],
   "source": []
  }
 ],
 "metadata": {
  "kernelspec": {
   "display_name": "Python 3",
   "language": "python",
   "name": "python3"
  },
  "language_info": {
   "codemirror_mode": {
    "name": "ipython",
    "version": 3
   },
   "file_extension": ".py",
   "mimetype": "text/x-python",
   "name": "python",
   "nbconvert_exporter": "python",
   "pygments_lexer": "ipython3",
   "version": "3.6.8"
  }
 },
 "nbformat": 4,
 "nbformat_minor": 5
}
