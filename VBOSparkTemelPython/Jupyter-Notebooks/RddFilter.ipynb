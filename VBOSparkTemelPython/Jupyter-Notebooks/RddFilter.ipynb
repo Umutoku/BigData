{
 "cells": [
  {
   "cell_type": "code",
   "execution_count": 1,
   "id": "50bdaf6c",
   "metadata": {},
   "outputs": [],
   "source": [
    "import findspark\n",
    "findspark.init()"
   ]
  },
  {
   "cell_type": "code",
   "execution_count": 2,
   "id": "05f7be97",
   "metadata": {},
   "outputs": [],
   "source": [
    "from pyspark.sql import SparkSession\n",
    "from pyspark.conf import SparkConf"
   ]
  },
  {
   "cell_type": "code",
   "execution_count": 5,
   "id": "bdaa7e88",
   "metadata": {},
   "outputs": [],
   "source": [
    "spark = SparkSession.builder \\\n",
    ".master(\"local[4]\") \\\n",
    ".appName(\"Dataset-Olusturmak\") \\\n",
    ".config(\"spark.executor.memory\",\"4g\") \\\n",
    ".config(\"spark.driver.memory\",\"2g\") \\\n",
    ".getOrCreate()\n",
    "\n",
    "sc = spark.sparkContext"
   ]
  },
  {
   "cell_type": "code",
   "execution_count": 8,
   "id": "c510bfad",
   "metadata": {},
   "outputs": [],
   "source": [
    "retailRDD = sc.textFile(\"C:\\\\Users\\\\umuto\\\\OneDrive\\\\Masaüstü\\\\OnlineRetail.csv\")"
   ]
  },
  {
   "cell_type": "code",
   "execution_count": null,
   "id": "529a9cda",
   "metadata": {},
   "outputs": [],
   "source": []
  },
  {
   "cell_type": "code",
   "execution_count": 9,
   "id": "fe255c16",
   "metadata": {},
   "outputs": [
    {
     "data": {
      "text/plain": [
       "['InvoiceNo;StockCode;Description;Quantity;InvoiceDate;UnitPrice;CustomerID;Country',\n",
       " '536365;85123A;WHITE HANGING HEART T-LIGHT HOLDER;6;1.12.2010 08:26;2,55;17850;United Kingdom',\n",
       " '536365;71053;WHITE METAL LANTERN;6;1.12.2010 08:26;3,39;17850;United Kingdom',\n",
       " '536365;84406B;CREAM CUPID HEARTS COAT HANGER;8;1.12.2010 08:26;2,75;17850;United Kingdom',\n",
       " '536365;84029G;KNITTED UNION FLAG HOT WATER BOTTLE;6;1.12.2010 08:26;3,39;17850;United Kingdom']"
      ]
     },
     "execution_count": 9,
     "metadata": {},
     "output_type": "execute_result"
    }
   ],
   "source": [
    "retailRDD.take(5)"
   ]
  },
  {
   "cell_type": "code",
   "execution_count": 10,
   "id": "d29ccb84",
   "metadata": {},
   "outputs": [],
   "source": [
    "firstline = retailRDD.first()\n",
    "firstlineRDD = sc.parallelize([firstline])"
   ]
  },
  {
   "cell_type": "code",
   "execution_count": 11,
   "id": "3e084c21",
   "metadata": {},
   "outputs": [],
   "source": [
    "retailRDDWithoutHeader = retailRDD.subtract(firstlineRDD)"
   ]
  },
  {
   "cell_type": "code",
   "execution_count": 12,
   "id": "48fd3f11",
   "metadata": {},
   "outputs": [
    {
     "data": {
      "text/plain": [
       "['536367;84969;BOX OF 6 ASSORTED COLOUR TEASPOONS;6;1.12.2010 08:34;4,25;13047;United Kingdom',\n",
       " '536369;21756;BATH BUILDING BLOCK WORD;3;1.12.2010 08:35;5,95;13047;United Kingdom',\n",
       " '536370;22326;ROUND SNACK BOXES SET OF4 WOODLAND;24;1.12.2010 08:45;2,95;12583;France',\n",
       " '536370;21731;RED TOADSTOOL LED NIGHT LIGHT;24;1.12.2010 08:45;1,65;12583;France',\n",
       " '536372;22632;HAND WARMER RED POLKA DOT;6;1.12.2010 09:01;1,85;17850;United Kingdom']"
      ]
     },
     "execution_count": 12,
     "metadata": {},
     "output_type": "execute_result"
    }
   ],
   "source": [
    "retailRDDWithoutHeader.take(5)"
   ]
  },
  {
   "cell_type": "markdown",
   "id": "6d754e84",
   "metadata": {},
   "source": [
    "Birim miktarı 30dan büyük olanları filtrele"
   ]
  },
  {
   "cell_type": "code",
   "execution_count": 13,
   "id": "33aaae34",
   "metadata": {},
   "outputs": [
    {
     "data": {
      "text/plain": [
       "['536378;85183B;CHARLIE & LOLA WASTEPAPER BIN FLORA;48;1.12.2010 09:37;1,25;14688;United Kingdom',\n",
       " '536381;22719;GUMBALL MONOCHROME COAT RACK;36;1.12.2010 09:41;1,06;15311;United Kingdom',\n",
       " '536384;22470;HEART OF WICKER LARGE;40;1.12.2010 09:53;2,55;18074;United Kingdom',\n",
       " '536386;85099C;JUMBO  BAG BAROQUE BLACK WHITE;100;1.12.2010 09:57;1,65;16029;United Kingdom',\n",
       " '536387;79321;CHILLI LIGHTS;192;1.12.2010 09:58;3,82;16029;United Kingdom']"
      ]
     },
     "execution_count": 13,
     "metadata": {},
     "output_type": "execute_result"
    }
   ],
   "source": [
    "retailRDDWithoutHeader.filter(lambda x: int(x.split(\";\")[3])>30).take(5)"
   ]
  },
  {
   "cell_type": "markdown",
   "id": "a0bf781a",
   "metadata": {},
   "source": [
    "Ürün adından COFFEE geçenler"
   ]
  },
  {
   "cell_type": "code",
   "execution_count": 14,
   "id": "9659bb39",
   "metadata": {},
   "outputs": [
    {
     "data": {
      "text/plain": [
       "['536739;85159A;BLACK TEA,COFFEE,SUGAR JARS;2;2.12.2010 13:08;6,35;14180;United Kingdom',\n",
       " '536750;37370;RETRO COFFEE MUGS ASSORTED;6;2.12.2010 14:04;1,06;17850;United Kingdom',\n",
       " '536787;37370;RETRO COFFEE MUGS ASSORTED;6;2.12.2010 15:24;1,06;17850;United Kingdom',\n",
       " '536804;37370;RETRO COFFEE MUGS ASSORTED;72;2.12.2010 16:34;1,06;14031;United Kingdom',\n",
       " '536805;37370;RETRO COFFEE MUGS ASSORTED;12;2.12.2010 16:38;1,25;14775;United Kingdom',\n",
       " '536864;21216;SET 3 RETROSPOT TEA,COFFEE,SUGAR;1;3.12.2010 11:27;11,02;000000;United Kingdom',\n",
       " '536865;37370;RETRO COFFEE MUGS ASSORTED;1;3.12.2010 11:28;16,13;000000;United Kingdom',\n",
       " '537126;21216;SET 3 RETROSPOT TEA,COFFEE,SUGAR;1;5.12.2010 12:13;4,95;18118;United Kingdom',\n",
       " '537231;22304;COFFEE MUG BLUE PAISLEY DESIGN;6;6.12.2010 09:21;2,55;13652;United Kingdom',\n",
       " '537236;21216;SET 3 RETROSPOT TEA,COFFEE,SUGAR;8;6.12.2010 09:52;4,95;16858;United Kingdom']"
      ]
     },
     "execution_count": 14,
     "metadata": {},
     "output_type": "execute_result"
    }
   ],
   "source": [
    "retailRDDWithoutHeader.filter(lambda x: 'COFFEE' in x.split(\";\")[2]).take(10)"
   ]
  },
  {
   "cell_type": "code",
   "execution_count": 15,
   "id": "a1be6d88",
   "metadata": {},
   "outputs": [],
   "source": [
    "def ikili_filtre(x):\n",
    "    quantity = int(x.split(\";\")[3])\n",
    "    description = x.split(\";\")[2]\n",
    "    \n",
    "    return (quantity >30) & ('COFFEE' in description)"
   ]
  },
  {
   "cell_type": "code",
   "execution_count": 17,
   "id": "dbe006aa",
   "metadata": {},
   "outputs": [
    {
     "data": {
      "text/plain": [
       "['536804;37370;RETRO COFFEE MUGS ASSORTED;72;2.12.2010 16:34;1,06;14031;United Kingdom',\n",
       " '540176;22302;COFFEE MUG PEARS  DESIGN;36;5.01.2011 12:40;2,1;17511;United Kingdom',\n",
       " '540459;22970;LONDON BUS COFFEE MUG;36;7.01.2011 12:35;2,1;16191;United Kingdom',\n",
       " '541597;37370;RETRO COFFEE MUGS ASSORTED;216;19.01.2011 16:19;1,06;14031;United Kingdom',\n",
       " '542373;22303;COFFEE MUG APPLES DESIGN;36;27.01.2011 13:38;2,1;16767;United Kingdom',\n",
       " '542789;22970;LONDON BUS COFFEE MUG;36;1.02.2011 10:38;2,1;17511;United Kingdom',\n",
       " '543054;22300;COFFEE MUG DOG + BALL DESIGN;36;3.02.2011 10:39;2,1;13394;United Kingdom',\n",
       " '543594;22970;LONDON BUS COFFEE MUG;36;10.02.2011 12:15;2,1;18093;United Kingdom',\n",
       " '544164;22971;QUEENS GUARD COFFEE MUG;36;16.02.2011 13:02;2,1;17306;United Kingdom',\n",
       " '544480;22303;COFFEE MUG APPLES DESIGN;72;21.02.2011 10:32;2,1;14646;Netherlands',\n",
       " '544647;22970;LONDON BUS COFFEE MUG;36;22.02.2011 12:13;2,1;14060;United Kingdom',\n",
       " '544690;22303;COFFEE MUG APPLES DESIGN;36;23.02.2011 08:48;2,1;14156;EIRE',\n",
       " '545533;22303;COFFEE MUG APPLES DESIGN;36;3.03.2011 14:04;2,1;12524;Germany',\n",
       " '545668;37370;RETRO COFFEE MUGS ASSORTED;144;4.03.2011 17:02;1,06;14031;United Kingdom',\n",
       " '546644;21398;RED POLKADOT COFFEE  MUG;48;15.03.2011 13:28;0,39;15932;United Kingdom',\n",
       " '547417;21399;BLUE POLKADOT COFFEE MUG;48;23.03.2011 10:25;0,39;13239;United Kingdom',\n",
       " '547706;22970;LONDON BUS COFFEE MUG;108;24.03.2011 18:25;2,1;12901;United Kingdom',\n",
       " '547987;21398;RED POLKADOT COFFEE  MUG;48;29.03.2011 09:11;0,39;17428;United Kingdom',\n",
       " '548014;21398;RED POLKADOT COFFEE  MUG;48;29.03.2011 11:29;0,39;17719;United Kingdom',\n",
       " '548203;22970;LONDON BUS COFFEE MUG;45;29.03.2011 16:40;5,95;000000;United Kingdom',\n",
       " '548521;21398;RED POLKADOT COFFEE  MUG;48;31.03.2011 16:41;0,39;17735;United Kingdom',\n",
       " '548993;21216;SET 3 RETROSPOT TEA,COFFEE,SUGAR;48;5.04.2011 13:56;4,25;12753;Japan',\n",
       " '549102;21399;BLUE POLKADOT COFFEE MUG;96;6.04.2011 11:34;0,39;13266;United Kingdom',\n",
       " '549116;21398;RED POLKADOT COFFEE  MUG;48;6.04.2011 12:49;0,39;16670;United Kingdom',\n",
       " '549116;21399;BLUE POLKADOT COFFEE MUG;48;6.04.2011 12:49;0,39;16670;United Kingdom',\n",
       " '549117;21398;RED POLKADOT COFFEE  MUG;48;6.04.2011 12:56;0,39;13491;United Kingdom',\n",
       " '549321;21398;RED POLKADOT COFFEE  MUG;48;8.04.2011 10:19;0,39;14243;United Kingdom',\n",
       " '549927;22970;LONDON BUS COFFEE MUG;252;13.04.2011 10:19;2,1;16684;United Kingdom',\n",
       " '550137;21216;SET 3 RETROSPOT TEA,COFFEE,SUGAR;72;14.04.2011 13:59;4,25;12477;Germany',\n",
       " '550666;21399;BLUE POLKADOT COFFEE MUG;96;20.04.2011 09:35;0,39;17719;United Kingdom']"
      ]
     },
     "execution_count": 17,
     "metadata": {},
     "output_type": "execute_result"
    }
   ],
   "source": [
    "retailRDDWithoutHeader.filter(lambda x: ikili_filtre(x)).take(30)"
   ]
  },
  {
   "cell_type": "code",
   "execution_count": null,
   "id": "87acca4d",
   "metadata": {},
   "outputs": [],
   "source": []
  }
 ],
 "metadata": {
  "kernelspec": {
   "display_name": "Python 3",
   "language": "python",
   "name": "python3"
  },
  "language_info": {
   "codemirror_mode": {
    "name": "ipython",
    "version": 3
   },
   "file_extension": ".py",
   "mimetype": "text/x-python",
   "name": "python",
   "nbconvert_exporter": "python",
   "pygments_lexer": "ipython3",
   "version": "3.6.8"
  }
 },
 "nbformat": 4,
 "nbformat_minor": 5
}
