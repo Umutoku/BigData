{
 "cells": [
  {
   "cell_type": "code",
   "execution_count": 1,
   "id": "6d865910",
   "metadata": {},
   "outputs": [],
   "source": [
    "import findspark\n",
    "findspark.init()\n",
    "\n",
    "from pyspark import SparkConf, SparkContext\n",
    "\n",
    "\n",
    "conf = SparkConf().setAppName(\"BroadcastVariablesOps\").setMaster(\"local[4]\")\n",
    "\n",
    "sc = SparkContext(conf=conf).getOrCreate()\n"
   ]
  },
  {
   "cell_type": "code",
   "execution_count": 2,
   "id": "cc305062",
   "metadata": {},
   "outputs": [],
   "source": [
    "def read_products():\n",
    "    products_text_wrapper = open(\"C:\\\\Users\\\\umuto\\\\OneDrive\\\\Masaüstü\\\\products.csv\" ,\"r\",encoding=\"utf-8\" )\n",
    "    \n",
    "    products = products_text_wrapper.readlines()\n",
    "    \n",
    "    product_id_name = {}\n",
    "    \n",
    "    for line in products:\n",
    "        #başlıktan kurtul\n",
    "        if \"productCategoryId\" not in line:\n",
    "            product_id = int(line.split(\",\")[0])\n",
    "            product_name = line.split(\",\")[2]\n",
    "            \n",
    "            product_id_name.update({product_id:product_name})\n",
    "            \n",
    "    return product_id_name"
   ]
  },
  {
   "cell_type": "code",
   "execution_count": 3,
   "id": "7534c0c7",
   "metadata": {},
   "outputs": [],
   "source": [
    "products = read_products()"
   ]
  },
  {
   "cell_type": "code",
   "execution_count": 6,
   "id": "e10d0173",
   "metadata": {},
   "outputs": [],
   "source": [
    "broadcast_products = sc.broadcast(products)"
   ]
  },
  {
   "cell_type": "code",
   "execution_count": 7,
   "id": "dfe555ee",
   "metadata": {},
   "outputs": [
    {
     "data": {
      "text/plain": [
       "\"Nike Men's Fly Shorts 2.0\""
      ]
     },
     "execution_count": 7,
     "metadata": {},
     "output_type": "execute_result"
    }
   ],
   "source": [
    "broadcast_products.value.get(114)"
   ]
  },
  {
   "cell_type": "markdown",
   "id": "a97e9279",
   "metadata": {},
   "source": [
    "#Order item okuma ve rdd"
   ]
  },
  {
   "cell_type": "code",
   "execution_count": 8,
   "id": "7024285b",
   "metadata": {},
   "outputs": [],
   "source": [
    "order_items_RDD = sc.textFile(\"C:\\\\Users\\\\umuto\\\\OneDrive\\\\Masaüstü\\\\order_items.csv\")\\\n",
    ".filter(lambda x: \"orderItemName\" not in x)"
   ]
  },
  {
   "cell_type": "code",
   "execution_count": 9,
   "id": "8544052a",
   "metadata": {},
   "outputs": [
    {
     "data": {
      "text/plain": [
       "['1,1,957,1,299.98,299.98',\n",
       " '2,2,1073,1,199.99,199.99',\n",
       " '3,2,502,5,250.0,50.0',\n",
       " '4,2,403,1,129.99,129.99',\n",
       " '5,4,897,2,49.98,24.99']"
      ]
     },
     "execution_count": 9,
     "metadata": {},
     "output_type": "execute_result"
    }
   ],
   "source": [
    "order_items_RDD.take(5)"
   ]
  },
  {
   "cell_type": "markdown",
   "id": "857c91e7",
   "metadata": {},
   "source": [
    "order_items pair rdd yapma"
   ]
  },
  {
   "cell_type": "code",
   "execution_count": 10,
   "id": "8a803871",
   "metadata": {},
   "outputs": [],
   "source": [
    "def make_order_items_pair_rdd(line):\n",
    "    order_Item_Product_Id = int(line.split(\",\")[2])\n",
    "    order_item_sub_total = float(line.split(\",\")[4])\n",
    "    \n",
    "    return(order_Item_Product_Id,order_item_sub_total)"
   ]
  },
  {
   "cell_type": "code",
   "execution_count": 11,
   "id": "710d8686",
   "metadata": {},
   "outputs": [],
   "source": [
    "order_items_pair_RDD = order_items_RDD.map(make_order_items_pair_rdd)"
   ]
  },
  {
   "cell_type": "code",
   "execution_count": 12,
   "id": "2eb3d6eb",
   "metadata": {},
   "outputs": [
    {
     "data": {
      "text/plain": [
       "[(957, 299.98), (1073, 199.99), (502, 250.0), (403, 129.99), (897, 49.98)]"
      ]
     },
     "execution_count": 12,
     "metadata": {},
     "output_type": "execute_result"
    }
   ],
   "source": [
    "order_items_pair_RDD.take(5)"
   ]
  },
  {
   "cell_type": "code",
   "execution_count": 20,
   "id": "71492827",
   "metadata": {},
   "outputs": [],
   "source": [
    "sorted_orders = order_items_pair_RDD.reduceByKey(lambda x,y: (x+y)) \\\n",
    ".map(lambda x: (x[1], x[0])) \\\n",
    ".sortByKey(False) \\\n",
    ".map(lambda x: (x[1], x[0])) \\\n",
    "    # .take(10)"
   ]
  },
  {
   "cell_type": "code",
   "execution_count": 21,
   "id": "87eb7952",
   "metadata": {},
   "outputs": [],
   "source": [
    "sorted_orders_with_product_name = sorted_orders \\\n",
    ".map(lambda x: (broadcast_products.value.get(x[0]),x[1]))"
   ]
  },
  {
   "cell_type": "code",
   "execution_count": 22,
   "id": "9416c268",
   "metadata": {},
   "outputs": [
    {
     "data": {
      "text/plain": [
       "[('Field & Stream Sportsman 16 Gun Fire Safe', 6929653.499999708),\n",
       " ('Perfect Fitness Perfect Rip Deck', 4421143.019999639),\n",
       " (\"Diamondback Women's Serene Classic Comfort Bi\", 4118425.419999785),\n",
       " (\"Nike Men's Free 5.0+ Running Shoe\", 3667633.1999997487),\n",
       " (\"Nike Men's Dri-FIT Victory Golf Polo\", 3147800.0),\n",
       " ('Pelican Sunstream 100 Kayak', 3099844.999999871),\n",
       " (\"Nike Men's CJ Elite 2 TD Football Cleat\", 2891757.5399998166),\n",
       " (\"O'Brien Men's Neoprene Life Vest\", 2888993.9399996493),\n",
       " (\"Under Armour Girls' Toddler Spine Surge Runni\", 1269082.649999932),\n",
       " ('adidas Youth Germany Black/Red Away Match Soc', 67830.0)]"
      ]
     },
     "execution_count": 22,
     "metadata": {},
     "output_type": "execute_result"
    }
   ],
   "source": [
    "sorted_orders_with_product_name.take(10)"
   ]
  },
  {
   "cell_type": "code",
   "execution_count": null,
   "id": "569c3d09",
   "metadata": {},
   "outputs": [],
   "source": []
  }
 ],
 "metadata": {
  "kernelspec": {
   "display_name": "Python 3",
   "language": "python",
   "name": "python3"
  },
  "language_info": {
   "codemirror_mode": {
    "name": "ipython",
    "version": 3
   },
   "file_extension": ".py",
   "mimetype": "text/x-python",
   "name": "python",
   "nbconvert_exporter": "python",
   "pygments_lexer": "ipython3",
   "version": "3.6.8"
  }
 },
 "nbformat": 4,
 "nbformat_minor": 5
}
