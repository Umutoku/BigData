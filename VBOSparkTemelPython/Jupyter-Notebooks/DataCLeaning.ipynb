{
 "cells": [
  {
   "cell_type": "code",
   "execution_count": 1,
   "id": "eee35fe7",
   "metadata": {},
   "outputs": [
    {
     "ename": "ModuleNotFoundError",
     "evalue": "No module named 'findspark'",
     "output_type": "error",
     "traceback": [
      "\u001b[1;31m---------------------------------------------------------------------------\u001b[0m",
      "\u001b[1;31mModuleNotFoundError\u001b[0m                       Traceback (most recent call last)",
      "Cell \u001b[1;32mIn[1], line 1\u001b[0m\n\u001b[1;32m----> 1\u001b[0m \u001b[39mimport\u001b[39;00m \u001b[39mfindspark\u001b[39;00m\n\u001b[0;32m      2\u001b[0m findspark\u001b[39m.\u001b[39minit()\n\u001b[0;32m      4\u001b[0m \u001b[39mfrom\u001b[39;00m \u001b[39mpyspark\u001b[39;00m\u001b[39m.\u001b[39;00m\u001b[39msql\u001b[39;00m \u001b[39mimport\u001b[39;00m SparkSession\n",
      "\u001b[1;31mModuleNotFoundError\u001b[0m: No module named 'findspark'"
     ]
    }
   ],
   "source": [
    "import findspark\n",
    "findspark.init()\n",
    "\n",
    "from pyspark.sql import SparkSession\n",
    "\n",
    "spark = SparkSession.builder \\\n",
    ".master(\"local[4]\") \\\n",
    ".appName(\"DF to Disk\") \\\n",
    ".config(\"spark.executor.memory\",\"4g\") \\\n",
    ".config(\"spark.driver.memory\",\"2g\") \\\n",
    ".getOrCreate()\n",
    "\n",
    "adultDataDf = spark.read \\\n",
    ".option(\"header\",\"True\") \\\n",
    ".option(\"inferSchema\",\"True\") \\\n",
    ".option(\"sep\",\",\") \\\n",
    ".csv(\"D:\\\\datasets\\\\adult.data\")\n",
    "\n",
    "adultTestDf = spark.read \\\n",
    ".option(\"header\",\"True\") \\\n",
    ".option(\"inferSchema\",\"True\") \\\n",
    ".option(\"sep\",\",\") \\\n",
    ".csv(\"D:\\\\datasets\\\\adult.test\")"
   ]
  },
  {
   "cell_type": "code",
   "execution_count": 2,
   "id": "9e27abfa",
   "metadata": {},
   "outputs": [],
   "source": [
    "adult_whole_df = adultDataDf.union(adultTestDf)"
   ]
  },
  {
   "cell_type": "code",
   "execution_count": 3,
   "id": "d4e5b61c",
   "metadata": {},
   "outputs": [
    {
     "data": {
      "text/html": [
       "<div>\n",
       "<style scoped>\n",
       "    .dataframe tbody tr th:only-of-type {\n",
       "        vertical-align: middle;\n",
       "    }\n",
       "\n",
       "    .dataframe tbody tr th {\n",
       "        vertical-align: top;\n",
       "    }\n",
       "\n",
       "    .dataframe thead th {\n",
       "        text-align: right;\n",
       "    }\n",
       "</style>\n",
       "<table border=\"1\" class=\"dataframe\">\n",
       "  <thead>\n",
       "    <tr style=\"text-align: right;\">\n",
       "      <th></th>\n",
       "      <th>age</th>\n",
       "      <th>workclass</th>\n",
       "      <th>fnlwgt</th>\n",
       "      <th>education</th>\n",
       "      <th>education_num</th>\n",
       "      <th>marital_status</th>\n",
       "      <th>occupation</th>\n",
       "      <th>relationship</th>\n",
       "      <th>race</th>\n",
       "      <th>sex</th>\n",
       "      <th>capital_gain</th>\n",
       "      <th>capital_loss</th>\n",
       "      <th>hours_per_week</th>\n",
       "      <th>native_country</th>\n",
       "      <th>output</th>\n",
       "    </tr>\n",
       "  </thead>\n",
       "  <tbody>\n",
       "    <tr>\n",
       "      <th>0</th>\n",
       "      <td>39</td>\n",
       "      <td>State-gov</td>\n",
       "      <td>77516.0</td>\n",
       "      <td>Bachelors</td>\n",
       "      <td>13.0</td>\n",
       "      <td>Never-married</td>\n",
       "      <td>Adm-clerical</td>\n",
       "      <td>Not-in-family</td>\n",
       "      <td>White</td>\n",
       "      <td>Male</td>\n",
       "      <td>2174.0</td>\n",
       "      <td>0.0</td>\n",
       "      <td>40.0</td>\n",
       "      <td>United-States</td>\n",
       "      <td>&lt;=50K</td>\n",
       "    </tr>\n",
       "    <tr>\n",
       "      <th>1</th>\n",
       "      <td>50</td>\n",
       "      <td>Self-emp-not-inc</td>\n",
       "      <td>83311.0</td>\n",
       "      <td>Bachelors</td>\n",
       "      <td>13.0</td>\n",
       "      <td>Married-civ-spouse</td>\n",
       "      <td>Exec-managerial</td>\n",
       "      <td>Husband</td>\n",
       "      <td>White</td>\n",
       "      <td>Male</td>\n",
       "      <td>0.0</td>\n",
       "      <td>0.0</td>\n",
       "      <td>13.0</td>\n",
       "      <td>United-States</td>\n",
       "      <td>&lt;=50K</td>\n",
       "    </tr>\n",
       "    <tr>\n",
       "      <th>2</th>\n",
       "      <td>38</td>\n",
       "      <td>Private</td>\n",
       "      <td>215646.0</td>\n",
       "      <td>HS-grad</td>\n",
       "      <td>9.0</td>\n",
       "      <td>Divorced</td>\n",
       "      <td>Handlers-cleaners</td>\n",
       "      <td>Not-in-family</td>\n",
       "      <td>White</td>\n",
       "      <td>Male</td>\n",
       "      <td>0.0</td>\n",
       "      <td>0.0</td>\n",
       "      <td>40.0</td>\n",
       "      <td>United-States</td>\n",
       "      <td>&lt;=50K</td>\n",
       "    </tr>\n",
       "    <tr>\n",
       "      <th>3</th>\n",
       "      <td>53</td>\n",
       "      <td>Private</td>\n",
       "      <td>234721.0</td>\n",
       "      <td>11th</td>\n",
       "      <td>7.0</td>\n",
       "      <td>Married-civ-spouse</td>\n",
       "      <td>Handlers-cleaners</td>\n",
       "      <td>Husband</td>\n",
       "      <td>Black</td>\n",
       "      <td>Male</td>\n",
       "      <td>0.0</td>\n",
       "      <td>0.0</td>\n",
       "      <td>40.0</td>\n",
       "      <td>United-States</td>\n",
       "      <td>&lt;=50K</td>\n",
       "    </tr>\n",
       "    <tr>\n",
       "      <th>4</th>\n",
       "      <td>28</td>\n",
       "      <td>Private</td>\n",
       "      <td>338409.0</td>\n",
       "      <td>Bachelors</td>\n",
       "      <td>13.0</td>\n",
       "      <td>Married-civ-spouse</td>\n",
       "      <td>Prof-specialty</td>\n",
       "      <td>Wife</td>\n",
       "      <td>Black</td>\n",
       "      <td>Female</td>\n",
       "      <td>0.0</td>\n",
       "      <td>0.0</td>\n",
       "      <td>40.0</td>\n",
       "      <td>Cuba</td>\n",
       "      <td>&lt;=50K</td>\n",
       "    </tr>\n",
       "  </tbody>\n",
       "</table>\n",
       "</div>"
      ],
      "text/plain": [
       "   age          workclass    fnlwgt   education  education_num  \\\n",
       "0   39          State-gov   77516.0   Bachelors           13.0   \n",
       "1   50   Self-emp-not-inc   83311.0   Bachelors           13.0   \n",
       "2   38            Private  215646.0     HS-grad            9.0   \n",
       "3   53            Private  234721.0        11th            7.0   \n",
       "4   28            Private  338409.0   Bachelors           13.0   \n",
       "\n",
       "        marital_status          occupation    relationship    race      sex  \\\n",
       "0        Never-married        Adm-clerical   Not-in-family   White     Male   \n",
       "1   Married-civ-spouse     Exec-managerial         Husband   White     Male   \n",
       "2             Divorced   Handlers-cleaners   Not-in-family   White     Male   \n",
       "3   Married-civ-spouse   Handlers-cleaners         Husband   Black     Male   \n",
       "4   Married-civ-spouse      Prof-specialty            Wife   Black   Female   \n",
       "\n",
       "   capital_gain  capital_loss  hours_per_week  native_country  output  \n",
       "0        2174.0           0.0            40.0   United-States   <=50K  \n",
       "1           0.0           0.0            13.0   United-States   <=50K  \n",
       "2           0.0           0.0            40.0   United-States   <=50K  \n",
       "3           0.0           0.0            40.0   United-States   <=50K  \n",
       "4           0.0           0.0            40.0            Cuba   <=50K  "
      ]
     },
     "execution_count": 3,
     "metadata": {},
     "output_type": "execute_result"
    }
   ],
   "source": [
    "adult_whole_df.limit(5).toPandas().head()"
   ]
  },
  {
   "cell_type": "markdown",
   "id": "9b448e68",
   "metadata": {},
   "source": [
    "# Veri Temizliği "
   ]
  },
  {
   "cell_type": "code",
   "execution_count": 4,
   "id": "47109465",
   "metadata": {},
   "outputs": [],
   "source": [
    "from pyspark.sql.functions import *\n"
   ]
  },
  {
   "cell_type": "code",
   "execution_count": 5,
   "id": "29efa33a",
   "metadata": {},
   "outputs": [],
   "source": [
    "adult_whole_df1 = adult_whole_df \\\n",
    ".withColumn(\"workclass\", trim(col(\"workclass\"))) \\\n",
    ".withColumn(\"education\", trim(col(\"education\"))) \\\n",
    ".withColumn(\"marital_status\", trim(col(\"marital_status\"))) \\\n",
    ".withColumn(\"occupation\", trim(col(\"occupation\"))) \\\n",
    ".withColumn(\"relationship\", trim(col(\"relationship\"))) \\\n",
    ".withColumn(\"race\", trim(col(\"race\"))) \\\n",
    ".withColumn(\"sex\", trim(col(\"sex\"))) \\\n",
    ".withColumn(\"native_country\", trim(col(\"native_country\"))) \\\n",
    ".withColumn(\"output\", trim(col(\"output\"))) \\"
   ]
  },
  {
   "cell_type": "code",
   "execution_count": 7,
   "id": "af38e5bc",
   "metadata": {},
   "outputs": [
    {
     "data": {
      "text/plain": [
       "48842"
      ]
     },
     "execution_count": 7,
     "metadata": {},
     "output_type": "execute_result"
    }
   ],
   "source": [
    "adult_whole_df.count()\n"
   ]
  },
  {
   "cell_type": "code",
   "execution_count": 8,
   "id": "3cea7995",
   "metadata": {},
   "outputs": [
    {
     "data": {
      "text/plain": [
       "48842"
      ]
     },
     "execution_count": 8,
     "metadata": {},
     "output_type": "execute_result"
    }
   ],
   "source": [
    "adult_whole_df1.count()\n"
   ]
  },
  {
   "cell_type": "code",
   "execution_count": 9,
   "id": "2da17b59",
   "metadata": {},
   "outputs": [],
   "source": [
    "adult_whole_df2 = adult_whole_df1 \\\n",
    ".withColumn(\"output\", regexp_replace(col(\"output\"), \"<=50K.\",\"<=50K\")) \\\n",
    ".withColumn(\"output\", regexp_replace(col(\"output\"), \">50K.\",\">50K\"))"
   ]
  },
  {
   "cell_type": "markdown",
   "id": "1eea678b",
   "metadata": {},
   "source": [
    "# 3 null kontrolü"
   ]
  },
  {
   "cell_type": "code",
   "execution_count": 10,
   "id": "7edf064c",
   "metadata": {},
   "outputs": [
    {
     "data": {
      "text/plain": [
       "['age',\n",
       " 'workclass',\n",
       " 'fnlwgt',\n",
       " 'education',\n",
       " 'education_num',\n",
       " 'marital_status',\n",
       " 'occupation',\n",
       " 'relationship',\n",
       " 'race',\n",
       " 'sex',\n",
       " 'capital_gain',\n",
       " 'capital_loss',\n",
       " 'hours_per_week',\n",
       " 'native_country',\n",
       " 'output']"
      ]
     },
     "execution_count": 10,
     "metadata": {},
     "output_type": "execute_result"
    }
   ],
   "source": [
    "adult_whole_df2.columns"
   ]
  },
  {
   "cell_type": "code",
   "execution_count": 13,
   "id": "bfaefdaf",
   "metadata": {},
   "outputs": [
    {
     "name": "stdout",
     "output_type": "stream",
     "text": [
      "1   age\n",
      "2   workclass\n",
      "3   fnlwgt\n",
      "4   education\n",
      "5   education_num\n",
      "6   marital_status\n",
      "7   occupation\n",
      "8   relationship\n",
      "9   race\n",
      "10   sex\n",
      "11   capital_gain\n",
      "12   capital_loss\n",
      "13   hours_per_week\n",
      "14   native_country\n",
      "15   output\n"
     ]
    }
   ],
   "source": [
    "sayac_for_null = 1\n",
    "for sutun in adult_whole_df.columns:\n",
    "    if(adult_whole_df2.filter(col(sutun).isNull()).count()>0):\n",
    "        print(sayac_for_null,\". \", sutun, \" içinde null var.\")\n",
    "    else:\n",
    "        print(sayac_for_null, \" \" , sutun)\n",
    "    sayac_for_null+=1"
   ]
  },
  {
   "cell_type": "markdown",
   "id": "f79b3810",
   "metadata": {},
   "source": [
    "# 4 \"? Kontrolü\""
   ]
  },
  {
   "cell_type": "code",
   "execution_count": 16,
   "id": "4f3634a9",
   "metadata": {},
   "outputs": [
    {
     "name": "stdout",
     "output_type": "stream",
     "text": [
      "1   age\n",
      "1 .  workclass  içinde ? var.\n",
      "1   fnlwgt\n",
      "1   education\n",
      "1   education_num\n",
      "1   marital_status\n",
      "1 .  occupation  içinde ? var.\n",
      "1   relationship\n",
      "1   race\n",
      "1   sex\n",
      "1   capital_gain\n",
      "1   capital_loss\n",
      "1   hours_per_week\n",
      "1 .  native_country  içinde ? var.\n",
      "1   output\n"
     ]
    }
   ],
   "source": [
    "sayac_for_question = 1\n",
    "for sutun in adult_whole_df2.columns:\n",
    "    if(adult_whole_df2.filter(col(sutun).contains(\"?\")).count()>0):\n",
    "        print(sayac_for_question,\". \", sutun, \" içinde ? var.\")\n",
    "    else:\n",
    "        print(sayac_for_question, \" \" , sutun)\n",
    "    sayac_for_null+=1"
   ]
  },
  {
   "cell_type": "code",
   "execution_count": 18,
   "id": "5fa9eae7",
   "metadata": {},
   "outputs": [
    {
     "data": {
      "text/html": [
       "<div>\n",
       "<style scoped>\n",
       "    .dataframe tbody tr th:only-of-type {\n",
       "        vertical-align: middle;\n",
       "    }\n",
       "\n",
       "    .dataframe tbody tr th {\n",
       "        vertical-align: top;\n",
       "    }\n",
       "\n",
       "    .dataframe thead th {\n",
       "        text-align: right;\n",
       "    }\n",
       "</style>\n",
       "<table border=\"1\" class=\"dataframe\">\n",
       "  <thead>\n",
       "    <tr style=\"text-align: right;\">\n",
       "      <th></th>\n",
       "      <th>workclass</th>\n",
       "      <th>occupation</th>\n",
       "      <th>native_country</th>\n",
       "      <th>output</th>\n",
       "      <th>count</th>\n",
       "    </tr>\n",
       "  </thead>\n",
       "  <tbody>\n",
       "    <tr>\n",
       "      <th>0</th>\n",
       "      <td>?</td>\n",
       "      <td>?</td>\n",
       "      <td>United-States</td>\n",
       "      <td>&lt;=50K</td>\n",
       "      <td>2284</td>\n",
       "    </tr>\n",
       "    <tr>\n",
       "      <th>1</th>\n",
       "      <td>?</td>\n",
       "      <td>?</td>\n",
       "      <td>United-States</td>\n",
       "      <td>&gt;50K</td>\n",
       "      <td>246</td>\n",
       "    </tr>\n",
       "    <tr>\n",
       "      <th>2</th>\n",
       "      <td>Private</td>\n",
       "      <td>Other-service</td>\n",
       "      <td>?</td>\n",
       "      <td>&lt;=50K</td>\n",
       "      <td>100</td>\n",
       "    </tr>\n",
       "    <tr>\n",
       "      <th>3</th>\n",
       "      <td>Private</td>\n",
       "      <td>Sales</td>\n",
       "      <td>?</td>\n",
       "      <td>&lt;=50K</td>\n",
       "      <td>55</td>\n",
       "    </tr>\n",
       "    <tr>\n",
       "      <th>4</th>\n",
       "      <td>Private</td>\n",
       "      <td>Prof-specialty</td>\n",
       "      <td>?</td>\n",
       "      <td>&lt;=50K</td>\n",
       "      <td>51</td>\n",
       "    </tr>\n",
       "  </tbody>\n",
       "</table>\n",
       "</div>"
      ],
      "text/plain": [
       "  workclass      occupation native_country output  count\n",
       "0         ?               ?  United-States  <=50K   2284\n",
       "1         ?               ?  United-States   >50K    246\n",
       "2   Private   Other-service              ?  <=50K    100\n",
       "3   Private           Sales              ?  <=50K     55\n",
       "4   Private  Prof-specialty              ?  <=50K     51"
      ]
     },
     "execution_count": 18,
     "metadata": {},
     "output_type": "execute_result"
    }
   ],
   "source": [
    "adult_whole_df2.select(\"workclass\",\"occupation\",\"native_country\",\"output\")\\\n",
    ".filter(\n",
    "    col(\"workclass\").contains(\"?\") |\n",
    "    col(\"occupation\").contains(\"?\") |\n",
    "    col(\"native_country\").contains(\"?\")\n",
    ") \\\n",
    ".groupBy(\"workclass\",\"occupation\",\"native_country\",\"output\").count() \\\n",
    ".orderBy(col(\"count\").desc())\\\n",
    ".toPandas().head()"
   ]
  },
  {
   "cell_type": "code",
   "execution_count": 24,
   "id": "8323f402",
   "metadata": {},
   "outputs": [],
   "source": [
    "adult_whole_df3 = adult_whole_df2 \\\n",
    ".filter(~(col(\"workclass\").contains(\"?\") |\n",
    "    col(\"occupation\").contains(\"?\") |\n",
    "    col(\"native_country\").contains(\"?\")\n",
    "       ))"
   ]
  },
  {
   "cell_type": "code",
   "execution_count": 25,
   "id": "047b98e4",
   "metadata": {},
   "outputs": [
    {
     "name": "stdout",
     "output_type": "stream",
     "text": [
      "45222\n",
      "48842\n"
     ]
    }
   ],
   "source": [
    "print(adult_whole_df3.count())\n",
    "print(adult_whole_df2.count())"
   ]
  },
  {
   "cell_type": "markdown",
   "id": "dba13813",
   "metadata": {},
   "source": [
    "# 5. ZAYIF SINIFLARIN KALDIRILMASI"
   ]
  },
  {
   "cell_type": "markdown",
   "id": "79fafdc6",
   "metadata": {},
   "source": [
    "// workclass niteliğinde never-worked ve without-pay sınıfları ve occupation niteliğinde Armed-Forces sınıfı çok az tekrarlanmış. Veri setinden çıkarılabilir."
   ]
  },
  {
   "cell_type": "code",
   "execution_count": 26,
   "id": "320fc051",
   "metadata": {},
   "outputs": [
    {
     "name": "stdout",
     "output_type": "stream",
     "text": [
      "45222\n",
      "45207\n"
     ]
    }
   ],
   "source": [
    "adult_whole_df4 = adult_whole_df3 \\\n",
    ".filter(~(\n",
    "    col(\"workclass\").contains(\"never-worked\") | col(\"workclass\").contains(\"without-pay\") | \n",
    "       col(\"occupation\").contains(\"Armed-Forces\") | col(\"native_country\").contains(\"Holand-Netherlands\")\n",
    "))\n",
    "\n",
    "print(adult_whole_df3.count())\n",
    "print(adult_whole_df4.count())"
   ]
  },
  {
   "cell_type": "markdown",
   "id": "06b3e53b",
   "metadata": {},
   "source": [
    "# 6. EĞİTİM DURUMUYLA İLGİLİ KATEGORİLERİ BİRLEŞTİRME"
   ]
  },
  {
   "cell_type": "markdown",
   "id": "e47080ca",
   "metadata": {},
   "source": [
    "// education niteliğindeki:\n",
    "  1st-4th, 5th-6th, 7th-8th: elementary-school\n",
    "9th, 10th, 11th, 12th: high-school\n",
    "Masters, Doctorate: high-education\n",
    "Bachelors, Some-college: undergraduate\n",
    "sınıfları yukarıdaki gibi birleştirilebilir."
   ]
  },
  {
   "cell_type": "code",
   "execution_count": 27,
   "id": "cea11b43",
   "metadata": {},
   "outputs": [
    {
     "data": {
      "text/html": [
       "<div>\n",
       "<style scoped>\n",
       "    .dataframe tbody tr th:only-of-type {\n",
       "        vertical-align: middle;\n",
       "    }\n",
       "\n",
       "    .dataframe tbody tr th {\n",
       "        vertical-align: top;\n",
       "    }\n",
       "\n",
       "    .dataframe thead th {\n",
       "        text-align: right;\n",
       "    }\n",
       "</style>\n",
       "<table border=\"1\" class=\"dataframe\">\n",
       "  <thead>\n",
       "    <tr style=\"text-align: right;\">\n",
       "      <th></th>\n",
       "      <th>education</th>\n",
       "      <th>education_merged</th>\n",
       "    </tr>\n",
       "  </thead>\n",
       "  <tbody>\n",
       "    <tr>\n",
       "      <th>0</th>\n",
       "      <td>Bachelors</td>\n",
       "      <td>Undergraduate</td>\n",
       "    </tr>\n",
       "    <tr>\n",
       "      <th>1</th>\n",
       "      <td>Bachelors</td>\n",
       "      <td>Undergraduate</td>\n",
       "    </tr>\n",
       "    <tr>\n",
       "      <th>2</th>\n",
       "      <td>HS-grad</td>\n",
       "      <td>HS-grad</td>\n",
       "    </tr>\n",
       "    <tr>\n",
       "      <th>3</th>\n",
       "      <td>11th</td>\n",
       "      <td>High-School</td>\n",
       "    </tr>\n",
       "    <tr>\n",
       "      <th>4</th>\n",
       "      <td>Bachelors</td>\n",
       "      <td>Undergraduate</td>\n",
       "    </tr>\n",
       "    <tr>\n",
       "      <th>5</th>\n",
       "      <td>Masters</td>\n",
       "      <td>Postgraduate</td>\n",
       "    </tr>\n",
       "    <tr>\n",
       "      <th>6</th>\n",
       "      <td>9th</td>\n",
       "      <td>High-School</td>\n",
       "    </tr>\n",
       "    <tr>\n",
       "      <th>7</th>\n",
       "      <td>HS-grad</td>\n",
       "      <td>HS-grad</td>\n",
       "    </tr>\n",
       "    <tr>\n",
       "      <th>8</th>\n",
       "      <td>Masters</td>\n",
       "      <td>Postgraduate</td>\n",
       "    </tr>\n",
       "    <tr>\n",
       "      <th>9</th>\n",
       "      <td>Bachelors</td>\n",
       "      <td>Undergraduate</td>\n",
       "    </tr>\n",
       "    <tr>\n",
       "      <th>10</th>\n",
       "      <td>Some-college</td>\n",
       "      <td>Undergraduate</td>\n",
       "    </tr>\n",
       "    <tr>\n",
       "      <th>11</th>\n",
       "      <td>Bachelors</td>\n",
       "      <td>Undergraduate</td>\n",
       "    </tr>\n",
       "    <tr>\n",
       "      <th>12</th>\n",
       "      <td>Bachelors</td>\n",
       "      <td>Undergraduate</td>\n",
       "    </tr>\n",
       "    <tr>\n",
       "      <th>13</th>\n",
       "      <td>Assoc-acdm</td>\n",
       "      <td>Assoc-acdm</td>\n",
       "    </tr>\n",
       "    <tr>\n",
       "      <th>14</th>\n",
       "      <td>7th-8th</td>\n",
       "      <td>Elementary-School</td>\n",
       "    </tr>\n",
       "    <tr>\n",
       "      <th>15</th>\n",
       "      <td>HS-grad</td>\n",
       "      <td>HS-grad</td>\n",
       "    </tr>\n",
       "    <tr>\n",
       "      <th>16</th>\n",
       "      <td>HS-grad</td>\n",
       "      <td>HS-grad</td>\n",
       "    </tr>\n",
       "    <tr>\n",
       "      <th>17</th>\n",
       "      <td>11th</td>\n",
       "      <td>High-School</td>\n",
       "    </tr>\n",
       "    <tr>\n",
       "      <th>18</th>\n",
       "      <td>Masters</td>\n",
       "      <td>Postgraduate</td>\n",
       "    </tr>\n",
       "    <tr>\n",
       "      <th>19</th>\n",
       "      <td>Doctorate</td>\n",
       "      <td>Postgraduate</td>\n",
       "    </tr>\n",
       "  </tbody>\n",
       "</table>\n",
       "</div>"
      ],
      "text/plain": [
       "       education   education_merged\n",
       "0      Bachelors      Undergraduate\n",
       "1      Bachelors      Undergraduate\n",
       "2        HS-grad            HS-grad\n",
       "3           11th        High-School\n",
       "4      Bachelors      Undergraduate\n",
       "5        Masters       Postgraduate\n",
       "6            9th        High-School\n",
       "7        HS-grad            HS-grad\n",
       "8        Masters       Postgraduate\n",
       "9      Bachelors      Undergraduate\n",
       "10  Some-college      Undergraduate\n",
       "11     Bachelors      Undergraduate\n",
       "12     Bachelors      Undergraduate\n",
       "13    Assoc-acdm         Assoc-acdm\n",
       "14       7th-8th  Elementary-School\n",
       "15       HS-grad            HS-grad\n",
       "16       HS-grad            HS-grad\n",
       "17          11th        High-School\n",
       "18       Masters       Postgraduate\n",
       "19     Doctorate       Postgraduate"
      ]
     },
     "execution_count": 27,
     "metadata": {},
     "output_type": "execute_result"
    }
   ],
   "source": [
    "adult_whole_df5 = adult_whole_df4.withColumn(\"education_merged\",\n",
    "when(col(\"education\").isin(\"1st-4th\", \"5th-6th\", \"7th-8th\"), \"Elementary-School\") \n",
    ".when(col(\"education\").isin(\"9th\", \"10th\", \"11th\", \"12th\"), \"High-School\") \n",
    ".when(col(\"education\").isin(\"Masters\",\"Doctorate\"), \"Postgraduate\")\n",
    ".when(col(\"education\").isin(\"Bachelors\",\"Some-college\"), \"Undergraduate\")\n",
    ".otherwise(col(\"education\"))\n",
    "                                            \n",
    ")\n",
    "\n",
    "adult_whole_df5.select(\"education\",\"education_merged\").toPandas().head(20)"
   ]
  },
  {
   "cell_type": "markdown",
   "id": "8672a905",
   "metadata": {},
   "source": [
    "// Sütun sırasını değiştirelim. education_merge'i education yanına alalım\n",
    "\n"
   ]
  },
  {
   "cell_type": "code",
   "execution_count": 28,
   "id": "d0278082",
   "metadata": {},
   "outputs": [
    {
     "data": {
      "text/html": [
       "<div>\n",
       "<style scoped>\n",
       "    .dataframe tbody tr th:only-of-type {\n",
       "        vertical-align: middle;\n",
       "    }\n",
       "\n",
       "    .dataframe tbody tr th {\n",
       "        vertical-align: top;\n",
       "    }\n",
       "\n",
       "    .dataframe thead th {\n",
       "        text-align: right;\n",
       "    }\n",
       "</style>\n",
       "<table border=\"1\" class=\"dataframe\">\n",
       "  <thead>\n",
       "    <tr style=\"text-align: right;\">\n",
       "      <th></th>\n",
       "      <th>workclass</th>\n",
       "      <th>education</th>\n",
       "      <th>education_merged</th>\n",
       "      <th>marital_status</th>\n",
       "      <th>occupation</th>\n",
       "      <th>relationship</th>\n",
       "      <th>race</th>\n",
       "      <th>sex</th>\n",
       "      <th>native_country</th>\n",
       "      <th>age</th>\n",
       "      <th>fnlwgt</th>\n",
       "      <th>education_num</th>\n",
       "      <th>capital_gain</th>\n",
       "      <th>capital_loss</th>\n",
       "      <th>hours_per_week</th>\n",
       "      <th>output</th>\n",
       "    </tr>\n",
       "  </thead>\n",
       "  <tbody>\n",
       "    <tr>\n",
       "      <th>0</th>\n",
       "      <td>State-gov</td>\n",
       "      <td>Bachelors</td>\n",
       "      <td>Undergraduate</td>\n",
       "      <td>Never-married</td>\n",
       "      <td>Adm-clerical</td>\n",
       "      <td>Not-in-family</td>\n",
       "      <td>White</td>\n",
       "      <td>Male</td>\n",
       "      <td>United-States</td>\n",
       "      <td>39</td>\n",
       "      <td>77516.0</td>\n",
       "      <td>13.0</td>\n",
       "      <td>2174.0</td>\n",
       "      <td>0.0</td>\n",
       "      <td>40.0</td>\n",
       "      <td>&lt;=50K</td>\n",
       "    </tr>\n",
       "    <tr>\n",
       "      <th>1</th>\n",
       "      <td>Self-emp-not-inc</td>\n",
       "      <td>Bachelors</td>\n",
       "      <td>Undergraduate</td>\n",
       "      <td>Married-civ-spouse</td>\n",
       "      <td>Exec-managerial</td>\n",
       "      <td>Husband</td>\n",
       "      <td>White</td>\n",
       "      <td>Male</td>\n",
       "      <td>United-States</td>\n",
       "      <td>50</td>\n",
       "      <td>83311.0</td>\n",
       "      <td>13.0</td>\n",
       "      <td>0.0</td>\n",
       "      <td>0.0</td>\n",
       "      <td>13.0</td>\n",
       "      <td>&lt;=50K</td>\n",
       "    </tr>\n",
       "    <tr>\n",
       "      <th>2</th>\n",
       "      <td>Private</td>\n",
       "      <td>HS-grad</td>\n",
       "      <td>HS-grad</td>\n",
       "      <td>Divorced</td>\n",
       "      <td>Handlers-cleaners</td>\n",
       "      <td>Not-in-family</td>\n",
       "      <td>White</td>\n",
       "      <td>Male</td>\n",
       "      <td>United-States</td>\n",
       "      <td>38</td>\n",
       "      <td>215646.0</td>\n",
       "      <td>9.0</td>\n",
       "      <td>0.0</td>\n",
       "      <td>0.0</td>\n",
       "      <td>40.0</td>\n",
       "      <td>&lt;=50K</td>\n",
       "    </tr>\n",
       "    <tr>\n",
       "      <th>3</th>\n",
       "      <td>Private</td>\n",
       "      <td>11th</td>\n",
       "      <td>High-School</td>\n",
       "      <td>Married-civ-spouse</td>\n",
       "      <td>Handlers-cleaners</td>\n",
       "      <td>Husband</td>\n",
       "      <td>Black</td>\n",
       "      <td>Male</td>\n",
       "      <td>United-States</td>\n",
       "      <td>53</td>\n",
       "      <td>234721.0</td>\n",
       "      <td>7.0</td>\n",
       "      <td>0.0</td>\n",
       "      <td>0.0</td>\n",
       "      <td>40.0</td>\n",
       "      <td>&lt;=50K</td>\n",
       "    </tr>\n",
       "    <tr>\n",
       "      <th>4</th>\n",
       "      <td>Private</td>\n",
       "      <td>Bachelors</td>\n",
       "      <td>Undergraduate</td>\n",
       "      <td>Married-civ-spouse</td>\n",
       "      <td>Prof-specialty</td>\n",
       "      <td>Wife</td>\n",
       "      <td>Black</td>\n",
       "      <td>Female</td>\n",
       "      <td>Cuba</td>\n",
       "      <td>28</td>\n",
       "      <td>338409.0</td>\n",
       "      <td>13.0</td>\n",
       "      <td>0.0</td>\n",
       "      <td>0.0</td>\n",
       "      <td>40.0</td>\n",
       "      <td>&lt;=50K</td>\n",
       "    </tr>\n",
       "  </tbody>\n",
       "</table>\n",
       "</div>"
      ],
      "text/plain": [
       "          workclass  education education_merged      marital_status  \\\n",
       "0         State-gov  Bachelors    Undergraduate       Never-married   \n",
       "1  Self-emp-not-inc  Bachelors    Undergraduate  Married-civ-spouse   \n",
       "2           Private    HS-grad          HS-grad            Divorced   \n",
       "3           Private       11th      High-School  Married-civ-spouse   \n",
       "4           Private  Bachelors    Undergraduate  Married-civ-spouse   \n",
       "\n",
       "          occupation   relationship   race     sex native_country  age  \\\n",
       "0       Adm-clerical  Not-in-family  White    Male  United-States   39   \n",
       "1    Exec-managerial        Husband  White    Male  United-States   50   \n",
       "2  Handlers-cleaners  Not-in-family  White    Male  United-States   38   \n",
       "3  Handlers-cleaners        Husband  Black    Male  United-States   53   \n",
       "4     Prof-specialty           Wife  Black  Female           Cuba   28   \n",
       "\n",
       "     fnlwgt  education_num  capital_gain  capital_loss  hours_per_week output  \n",
       "0   77516.0           13.0        2174.0           0.0            40.0  <=50K  \n",
       "1   83311.0           13.0           0.0           0.0            13.0  <=50K  \n",
       "2  215646.0            9.0           0.0           0.0            40.0  <=50K  \n",
       "3  234721.0            7.0           0.0           0.0            40.0  <=50K  \n",
       "4  338409.0           13.0           0.0           0.0            40.0  <=50K  "
      ]
     },
     "execution_count": 28,
     "metadata": {},
     "output_type": "execute_result"
    }
   ],
   "source": [
    "nitelik_siralama = [\"workclass\", \"education\", \"education_merged\", \"marital_status\", \"occupation\", \"relationship\", \"race\",\n",
    "     \"sex\", \"native_country\", \"age\", \"fnlwgt\", \"education_num\", \"capital_gain\", \"capital_loss\", \"hours_per_week\",\"output\"]\n",
    "\n",
    "adult_whole_df6 = adult_whole_df5.select(nitelik_siralama)\n",
    "adult_whole_df6.toPandas().head()"
   ]
  },
  {
   "cell_type": "code",
   "execution_count": 30,
   "id": "3a4f5cd0",
   "metadata": {},
   "outputs": [],
   "source": [
    "adult_whole_df6 \\\n",
    ".coalesce(1) \\\n",
    ".write \\\n",
    ".mode(\"overwrite\") \\\n",
    ".option(\"sep\",\",\") \\\n",
    ".option(\"header\",\"True\") \\\n",
    ".csv(\"D:\\\\Datasets\\\\adult_processed_pyspark\")"
   ]
  },
  {
   "cell_type": "code",
   "execution_count": null,
   "id": "22e1de22",
   "metadata": {},
   "outputs": [],
   "source": []
  }
 ],
 "metadata": {
  "kernelspec": {
   "display_name": "Python 3",
   "language": "python",
   "name": "python3"
  },
  "language_info": {
   "codemirror_mode": {
    "name": "ipython",
    "version": 3
   },
   "file_extension": ".py",
   "mimetype": "text/x-python",
   "name": "python",
   "nbconvert_exporter": "python",
   "pygments_lexer": "ipython3",
   "version": "3.9.13"
  }
 },
 "nbformat": 4,
 "nbformat_minor": 5
}
